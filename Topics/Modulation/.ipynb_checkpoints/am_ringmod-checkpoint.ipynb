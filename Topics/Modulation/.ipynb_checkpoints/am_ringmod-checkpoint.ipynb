{
 "cells": [
  {
   "cell_type": "markdown",
   "metadata": {},
   "source": [
    "## Spectrum\n",
    "\n",
    "\n",
    "\n",
    "$Y = DFT(y)$\n",
    "\n",
    "\\begin{align}\n",
    "Y[k] = & \\sum_{n=0}^{N-1} y[n] \\cdot e^{-j 2 \\pi k \\frac{n}{N}} \\\\\n",
    "     %\n",
    "     = & \\sum_{n=0}^{N-1} y[n] \\cdot e^{-j 2 \\pi k \\frac{n}{N}} \\\\\n",
    "     %\n",
    "     = & \\sum_{n=0}^{N-1} \\sin\\left(2 \\pi f_1 \\frac{n}{f_s}\\right) \\cdot \\left( 1+ \\sin\\left[2 \\pi f_m \\frac{n}{f_s}\\right]\\right)   \\cdot e^{-j 2 \\pi k \\frac{n}{N}} \\\\\n",
    "     %\n",
    "= & \\sum_{n=0}^{N-1} \\left( \\sin\\left(2 \\pi f_1 \\frac{n}{f_s}\\right) + 0.5 \\left( \\cos\\left(2 \\pi (f_1 - f_m)\\frac{n}{f_s}\\right)  - \\cos\\left(2 \\pi (f_1 + f_m)\\frac{n}{f_s}\\right)  \\right) \\right)  \\cdot e^{-j 2 \\pi k \\frac{n}{N}} \\\\\n",
    "%\n",
    "= & \\delta[f_1] + 0.5 \\delta[f_1 - f_m] + 0.5 \\ \\delta[f_1 + f_m] \\\\\n",
    "\\end{align}"
   ]
  },
  {
   "cell_type": "markdown",
   "metadata": {},
   "source": [
    "\n",
    "# Amplitude Modulation\n",
    "\n",
    "$y[n] = x[n] \\cdot m[n]$\n",
    "\n",
    "$y[n] = \\sin\\left(2 \\pi f_1 \\frac{n}{f_s}\\right) \\cdot \\left( 1+ \\sin\\left[2 \\pi f_m \\frac{n}{f_s}\\right]\\right)$"
   ]
  },
  {
   "cell_type": "code",
   "execution_count": 9,
   "metadata": {
    "hide_input": true,
    "hide_output": true
   },
   "outputs": [],
   "source": [
    "# import all relevant packages\n",
    "\n",
    "import numpy as np\n",
    "from   numpy import linspace, sin, zeros\n",
    "from   math import pi\n",
    "%matplotlib notebook\n",
    "import matplotlib.pyplot as plt\n",
    "from   tikzplotlib import save as tikz_save\n",
    "\n",
    "from   IPython.display import display, Markdown, clear_output\n",
    "import IPython.display as ipd\n",
    "import ipywidgets as widgets\n",
    "from   ipywidgets import *\n"
   ]
  },
  {
   "cell_type": "code",
   "execution_count": 10,
   "metadata": {},
   "outputs": [],
   "source": [
    "fs = 48000\n",
    "N  = 48000\n",
    "\n",
    "t  = np.linspace(0,1,N)\n",
    "\n",
    "f1 = 500\n",
    "fm = 10\n",
    "\n",
    "x = np.sin(2*np.pi*f1*t)\n",
    "m = 1 + np.sin(2*np.pi*fm*t)\n",
    "\n",
    "y = x*m\n",
    "\n",
    "\n"
   ]
  },
  {
   "cell_type": "code",
   "execution_count": null,
   "metadata": {
    "scrolled": true
   },
   "outputs": [],
   "source": [
    "fig, ax = plt.subplots()\n",
    "line,   = ax.plot([], [], lw=2)\n",
    "#line.set_data([], [])\n",
    "ax.set_xlim(0,0.02)\n",
    "\n",
    "def animate(i):\n",
    "    line.set_data(t[0:1000], x[i:i+1000]);\n",
    "    return (line,)\n",
    " \n",
    "\n",
    "anim = animation.FuncAnimation(fig, animate,\n",
    "                               frames=100, interval=10, \n",
    "                               blit=True, repeat=False);\n",
    "\n",
    "display(Audio(y, rate=fs, autoplay=False))\n",
    "\n",
    "HTML(anim.to_html5_video())\n",
    "\n",
    "\n"
   ]
  },
  {
   "cell_type": "code",
   "execution_count": null,
   "metadata": {
    "scrolled": true
   },
   "outputs": [],
   "source": [
    "Y = abs(np.fft.fft(y))\n",
    "Y = np.fft.fftshift(Y)\n",
    "\n",
    "f = np.linspace(-fs/2,fs/2,len(Y))\n",
    "\n",
    "plt.plot(f,Y);\n",
    "plt.xlabel('f / Hz')\n",
    "plt.ylabel('|Y|')"
   ]
  },
  {
   "cell_type": "markdown",
   "metadata": {},
   "source": [
    "# Ring Modulation\n",
    "\n",
    "The formula for AM and ringmodluation are identical:\n",
    "\n",
    "$y[n] = x[n] \\cdot m[n]$\n",
    "\n",
    "\n",
    "However, the modulation signal is zero-mean, respectively symmetric in ring modulation:\n",
    "\n",
    "$y[n] = \\sin\\left(2 \\pi f_1 \\frac{n}{f_s}\\right) \\cdot \\sin\\left(2 \\pi f_m \\frac{n}{f_s}\\right)$\n"
   ]
  },
  {
   "cell_type": "code",
   "execution_count": null,
   "metadata": {},
   "outputs": [],
   "source": [
    "m = np.sin(2*np.pi*fm*t)\n",
    "\n",
    "y = x*m"
   ]
  }
 ],
 "metadata": {
  "kernelspec": {
   "display_name": "Python 3",
   "language": "python",
   "name": "python3"
  },
  "language_info": {
   "codemirror_mode": {
    "name": "ipython",
    "version": 3
   },
   "file_extension": ".py",
   "mimetype": "text/x-python",
   "name": "python",
   "nbconvert_exporter": "python",
   "pygments_lexer": "ipython3",
   "version": "3.6.9"
  }
 },
 "nbformat": 4,
 "nbformat_minor": 4
}
