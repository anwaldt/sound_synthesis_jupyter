{
 "cells": [
  {
   "cell_type": "markdown",
   "metadata": {},
   "source": [
    "# Digital Filters"
   ]
  },
  {
   "cell_type": "markdown",
   "metadata": {},
   "source": [
    "## Filters\n",
    "\n"
   ]
  },
  {
   "cell_type": "markdown",
   "metadata": {},
   "source": [
    "### Bilinear Transform\n",
    "\n",
    "\n",
    "$H(z) = H(s)$\n",
    "\n",
    "$s = \\frac{2}{T} $"
   ]
  },
  {
   "cell_type": "code",
   "execution_count": 1,
   "metadata": {},
   "outputs": [],
   "source": [
    "%matplotlib inline\n",
    "\n",
    "from scipy import signal\n",
    "\n",
    "import matplotlib\n",
    "from matplotlib import patches \n",
    "import numpy as np\n",
    "import matplotlib.pyplot as plt\n",
    "\n",
    "# transfer functions etc.\n",
    "import control\n",
    " "
   ]
  },
  {
   "cell_type": "code",
   "execution_count": 2,
   "metadata": {
    "scrolled": false
   },
   "outputs": [
    {
     "data": {
      "image/png": "[encoded data removed]",
      "text/plain": [
       "<Figure size 432x288 with 1 Axes>"
      ]
     },
     "metadata": {
      "needs_background": "light"
     },
     "output_type": "display_data"
    }
   ],
   "source": [
    "\n",
    "b, a = signal.butter(2, 100,fs=1000)\n",
    "\n",
    "z,p, k = signal.butter(2, 100, output='zpk', fs=1000)\n",
    "\n",
    "w, h = signal.freqz_zpk(z, p, k, fs=1000)\n",
    "\n",
    "fig  = plt.figure()\n",
    "\n",
    "ax   = fig.add_subplot(111)\n",
    "\n",
    "ax.plot(w, 20 * np.log10(abs(h)))\n",
    "\n",
    "ax.set_xscale('log')\n",
    "ax.axis((10, 1000, -100, 10));\n",
    "\n",
    "    \n"
   ]
  },
  {
   "cell_type": "markdown",
   "metadata": {},
   "source": [
    "Impulse response:\n",
    "\n",
    "\\begin{equation}\n",
    " h[n] = \\frac{0.06745527 + 0.13491055 + 0.06745527}{ 1  - 1.1429805 +  0.4128016}\n",
    "\\end{equation}\n",
    "\n"
   ]
  },
  {
   "cell_type": "code",
   "execution_count": 135,
   "metadata": {
    "scrolled": false
   },
   "outputs": [
    {
     "data": {
      "text/latex": [
       "$$\\frac{-s - 1}{0.6425 s + 0.6425}$$"
      ],
      "text/plain": [
       "\n",
       "      -s - 1\n",
       "-----------------\n",
       "0.6425 s + 0.6425"
      ]
     },
     "execution_count": 135,
     "metadata": {},
     "output_type": "execute_result"
    }
   ],
   "source": [
    "tf = control.TransferFunction(b,a);\n",
    "tf\n",
    "\n"
   ]
  },
  {
   "cell_type": "markdown",
   "metadata": {},
   "source": [
    "$s = \\sigma + j \\omega$\n",
    "\n",
    "$0 = \\frac{-s - 1}{0.6425 s + 0.6425}  $\n",
    "\n",
    "\n",
    "$ = \\frac{-(\\sigma + j \\omega) - 1}{0.6425 (\\sigma + j \\omega) + 0.6425}$\n",
    "\n",
    "$ = \\frac{-\\sigma - j \\omega - 1}{0.6425 \\sigma +  j 0.6425 \\omega  + 0.6425}$\n",
    "\n",
    "\n"
   ]
  },
  {
   "cell_type": "markdown",
   "metadata": {},
   "source": [
    "## Plot Poles and Zeros in Z-Plane"
   ]
  },
  {
   "cell_type": "code",
   "execution_count": 141,
   "metadata": {
    "scrolled": false
   },
   "outputs": [
    {
     "data": {
      "image/png": "[encoded data removed]",
      "text/plain": [
       "<Figure size 432x288 with 1 Axes>"
      ]
     },
     "metadata": {
      "needs_background": "light"
     },
     "output_type": "display_data"
    }
   ],
   "source": [
    "ax = plt.subplot(111)\n",
    "ax.axis('equal')\n",
    "\n",
    "ax.spines['left'].set_position('center')\n",
    "ax.spines['bottom'].set_position('center')\n",
    "ax.spines['right'].set_visible(False)\n",
    "ax.spines['top'].set_visible(False)\n",
    "\n",
    "r = 1.5; plt.axis('scaled'); plt.axis([-r, r, -r, r])\n",
    "ticks = [-1, -.5, .5, 1]; plt.xticks(ticks); plt.yticks(ticks)\n",
    "    \n",
    "uc = patches.Circle((0,0), radius=1, fill=False,\n",
    "                        color='black', ls='dashed')\n",
    "ax.add_patch(uc)\n",
    "\n",
    "\n",
    "b, a, k = signal.butter(2, 490, output='zpk', fs=1000)\n",
    " \n",
    "a[0] *= 2   \n",
    "    \n",
    "# zeros\n",
    "z  = np.roots(b)\n",
    "t1 = plt.plot(z.real, z.imag, 'ro', ms=10);\n",
    "\n",
    "# poles\n",
    "p  = np.roots(a)\n",
    "t2 = plt.plot(p.real, p.imag, 'gx', ms=10)\n",
    "\n",
    "plt.xlabel('Real')\n",
    "plt.ylabel('Imag')\n",
    "ax.xaxis.set_label_coords(1,   0.5)\n",
    "ax.yaxis.set_label_coords(0.5, 1)\n",
    " \n"
   ]
  },
  {
   "cell_type": "code",
   "execution_count": null,
   "metadata": {},
   "outputs": [],
   "source": []
  }
 ],
 "metadata": {
  "kernelspec": {
   "display_name": "Python 3",
   "language": "python",
   "name": "python3"
  },
  "language_info": {
   "codemirror_mode": {
    "name": "ipython",
    "version": 3
   },
   "file_extension": ".py",
   "mimetype": "text/x-python",
   "name": "python",
   "nbconvert_exporter": "python",
   "pygments_lexer": "ipython3",
   "version": "3.6.9"
  }
 },
 "nbformat": 4,
 "nbformat_minor": 4
}
